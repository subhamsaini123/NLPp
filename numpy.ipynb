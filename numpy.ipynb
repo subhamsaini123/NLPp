{
 "cells": [
  {
   "cell_type": "code",
   "execution_count": null,
   "id": "9b29f71e",
   "metadata": {},
   "outputs": [],
   "source": [
    "import numpy as np"
   ]
  },
  {
   "cell_type": "markdown",
   "id": "8e9edc79",
   "metadata": {},
   "source": [
    "# creat one dimention array"
   ]
  },
  {
   "cell_type": "code",
   "execution_count": null,
   "id": "bd5cbb4a",
   "metadata": {},
   "outputs": [],
   "source": [
    "a=[1,2,3,4]\n",
    "b=np.array(a)\n",
    "b\n"
   ]
  },
  {
   "cell_type": "markdown",
   "id": "bdd5f04d",
   "metadata": {},
   "source": [
    "# creat two dimention array"
   ]
  },
  {
   "cell_type": "code",
   "execution_count": null,
   "id": "183b78e0",
   "metadata": {},
   "outputs": [],
   "source": [
    "c=[[1,2,3],[4,5,6],[7,8,9]]\n",
    "d=np.array(c)\n",
    "d"
   ]
  },
  {
   "cell_type": "markdown",
   "id": "e03b7a5d",
   "metadata": {},
   "source": [
    "# creat three dimention array"
   ]
  },
  {
   "cell_type": "code",
   "execution_count": 2,
   "id": "5b4ab791",
   "metadata": {},
   "outputs": [
    {
     "data": {
      "text/plain": [
       "array([[[1, 2, 3],\n",
       "        [4, 5, 6],\n",
       "        [7, 8, 9]]])"
      ]
     },
     "execution_count": 2,
     "metadata": {},
     "output_type": "execute_result"
    }
   ],
   "source": [
    "import numpy as np\n",
    "e=[[[1,2,3],[4,5,6],[7,8,9]]]\n",
    "f=np.array(e)\n",
    "f"
   ]
  },
  {
   "cell_type": "code",
   "execution_count": null,
   "id": "7c76b726",
   "metadata": {},
   "outputs": [],
   "source": [
    "#how i check dimention and shape"
   ]
  },
  {
   "cell_type": "code",
   "execution_count": null,
   "id": "f4ccc6e4",
   "metadata": {},
   "outputs": [],
   "source": [
    "print(\"dimention is]\",b.ndim)"
   ]
  },
  {
   "cell_type": "code",
   "execution_count": null,
   "id": "955f4971",
   "metadata": {},
   "outputs": [],
   "source": [
    "print(\"dimention is]\",d.ndim)"
   ]
  },
  {
   "cell_type": "code",
   "execution_count": null,
   "id": "632e5e85",
   "metadata": {},
   "outputs": [],
   "source": [
    "print(\"dimention is]\",f.ndim)"
   ]
  },
  {
   "cell_type": "markdown",
   "id": "8ce845da",
   "metadata": {},
   "source": [
    "# how i check shape of array"
   ]
  },
  {
   "cell_type": "code",
   "execution_count": null,
   "id": "0eb3e59b",
   "metadata": {},
   "outputs": [],
   "source": [
    "print(\"total shape is=\",b.shape)"
   ]
  },
  {
   "cell_type": "code",
   "execution_count": null,
   "id": "f0137c05",
   "metadata": {},
   "outputs": [],
   "source": [
    "print(\"total shape is=\",d.shape)"
   ]
  },
  {
   "cell_type": "code",
   "execution_count": null,
   "id": "d00be87d",
   "metadata": {},
   "outputs": [],
   "source": [
    "print(\"total shape is=\",f.shape)"
   ]
  },
  {
   "cell_type": "markdown",
   "id": "cb479b76",
   "metadata": {},
   "source": [
    "# Q1 creat a user defined array ?"
   ]
  },
  {
   "cell_type": "code",
   "execution_count": 2,
   "id": "03b10b3c",
   "metadata": {},
   "outputs": [
    {
     "name": "stdout",
     "output_type": "stream",
     "text": [
      "enter size:2\n",
      "enter number:1\n",
      "enter number:2\n",
      "[1, 2]\n"
     ]
    },
    {
     "data": {
      "text/plain": [
       "array([1, 2])"
      ]
     },
     "execution_count": 2,
     "metadata": {},
     "output_type": "execute_result"
    }
   ],
   "source": [
    "import numpy as np\n",
    "a=([])\n",
    "size=int(input(\"enter size:\"))\n",
    "for i in range(size):\n",
    "    val=int(input(\"enter number:\"))\n",
    "    a.append(val)\n",
    "print(a)\n",
    "b=np.array(a)\n",
    "b"
   ]
  },
  {
   "cell_type": "markdown",
   "id": "d0aa5362",
   "metadata": {},
   "source": [
    "# pre defined functions"
   ]
  },
  {
   "cell_type": "code",
   "execution_count": null,
   "id": "91a6e336",
   "metadata": {},
   "outputs": [],
   "source": [
    "#1.  zeros()==>all values will be creat with 0.\n",
    "a=np.zeros(5)\n",
    "a"
   ]
  },
  {
   "cell_type": "code",
   "execution_count": null,
   "id": "0ca2a027",
   "metadata": {},
   "outputs": [],
   "source": [
    "a=np.zeros((2,3))\n",
    "a"
   ]
  },
  {
   "cell_type": "code",
   "execution_count": null,
   "id": "4ddf5918",
   "metadata": {},
   "outputs": [],
   "source": [
    "#2.  ones()==>all values will be creat with 1."
   ]
  },
  {
   "cell_type": "code",
   "execution_count": null,
   "id": "1c545ccd",
   "metadata": {},
   "outputs": [],
   "source": [
    "a=np.ones(5)\n",
    "a"
   ]
  },
  {
   "cell_type": "code",
   "execution_count": null,
   "id": "83ac9327",
   "metadata": {},
   "outputs": [],
   "source": [
    "a=np.ones((3,4))\n",
    "a"
   ]
  },
  {
   "cell_type": "code",
   "execution_count": null,
   "id": "cf0d79dd",
   "metadata": {},
   "outputs": [],
   "source": [
    "#Eye()==>return digonal elements are 1 and rest all are zero.\n",
    "a=np.eye(3,4)\n",
    "a"
   ]
  },
  {
   "cell_type": "code",
   "execution_count": null,
   "id": "e3908d93",
   "metadata": {},
   "outputs": [],
   "source": [
    "a=np.eye(5)\n",
    "a"
   ]
  },
  {
   "cell_type": "code",
   "execution_count": 54,
   "id": "8a2c25b4",
   "metadata": {},
   "outputs": [
    {
     "data": {
      "text/plain": [
       "array([[1., 0., 0., 0.],\n",
       "       [0., 1., 0., 0.]])"
      ]
     },
     "execution_count": 54,
     "metadata": {},
     "output_type": "execute_result"
    }
   ],
   "source": [
    "a = np.eye(2,4) \n",
    "a"
   ]
  },
  {
   "cell_type": "code",
   "execution_count": null,
   "id": "34539a1a",
   "metadata": {},
   "outputs": [],
   "source": [
    "a = np.eye(2) \n",
    "a"
   ]
  },
  {
   "cell_type": "code",
   "execution_count": 51,
   "id": "fa4f080d",
   "metadata": {},
   "outputs": [
    {
     "data": {
      "text/plain": [
       "array([[1, 0],\n",
       "       [0, 2]])"
      ]
     },
     "execution_count": 51,
     "metadata": {},
     "output_type": "execute_result"
    }
   ],
   "source": [
    "# diag() ==> \n",
    "a = np.diag((1,2))\n",
    "a"
   ]
  },
  {
   "cell_type": "code",
   "execution_count": null,
   "id": "f4b703bc",
   "metadata": {},
   "outputs": [],
   "source": [
    "a.ndim"
   ]
  },
  {
   "cell_type": "code",
   "execution_count": null,
   "id": "0585e18d",
   "metadata": {},
   "outputs": [],
   "source": [
    "a.shape"
   ]
  },
  {
   "cell_type": "markdown",
   "id": "ced2445c",
   "metadata": {},
   "source": [
    "# randint"
   ]
  },
  {
   "cell_type": "code",
   "execution_count": null,
   "id": "f23a58e6",
   "metadata": {},
   "outputs": [],
   "source": [
    "#randint==>(min_value,max_value,total_random _number)\n"
   ]
  },
  {
   "cell_type": "code",
   "execution_count": 19,
   "id": "f27c116e",
   "metadata": {},
   "outputs": [
    {
     "data": {
      "text/plain": [
       "array([18, 15, 12,  8,  4])"
      ]
     },
     "execution_count": 19,
     "metadata": {},
     "output_type": "execute_result"
    }
   ],
   "source": [
    "import numpy as np\n",
    "a=np.random.randint(1,20,5)\n",
    "a"
   ]
  },
  {
   "cell_type": "code",
   "execution_count": null,
   "id": "b3016419",
   "metadata": {},
   "outputs": [],
   "source": [
    "#rand==>this function is used to generate random number between 0 to 1"
   ]
  },
  {
   "cell_type": "code",
   "execution_count": 39,
   "id": "47ce3b23",
   "metadata": {},
   "outputs": [
    {
     "data": {
      "text/plain": [
       "array([0.3886372 , 0.16815221, 0.61247087, 0.01246669, 0.92559315])"
      ]
     },
     "execution_count": 39,
     "metadata": {},
     "output_type": "execute_result"
    }
   ],
   "source": [
    "a=np.random.rand(5)\n",
    "a"
   ]
  },
  {
   "cell_type": "code",
   "execution_count": null,
   "id": "9997a012",
   "metadata": {},
   "outputs": [],
   "source": [
    "#randn==>this function is used to generate a random number between -3 to +3"
   ]
  },
  {
   "cell_type": "code",
   "execution_count": 38,
   "id": "be064601",
   "metadata": {},
   "outputs": [
    {
     "data": {
      "text/plain": [
       "array([-0.65172256,  0.73633477,  0.36147955, -1.12882705,  0.25525456])"
      ]
     },
     "execution_count": 38,
     "metadata": {},
     "output_type": "execute_result"
    }
   ],
   "source": [
    "a=np.random.randn(5)\n",
    "a"
   ]
  },
  {
   "cell_type": "markdown",
   "id": "d90b28c5",
   "metadata": {},
   "source": [
    "# reshaping data"
   ]
  },
  {
   "cell_type": "code",
   "execution_count": null,
   "id": "77ad1626",
   "metadata": {},
   "outputs": [],
   "source": [
    "a=np.random.randint(1,50,30)\n",
    "a"
   ]
  },
  {
   "cell_type": "code",
   "execution_count": null,
   "id": "883d0adc",
   "metadata": {},
   "outputs": [],
   "source": [
    "a.shape"
   ]
  },
  {
   "cell_type": "code",
   "execution_count": null,
   "id": "a1d5b940",
   "metadata": {},
   "outputs": [],
   "source": [
    "a.reshape(1,30)"
   ]
  },
  {
   "cell_type": "code",
   "execution_count": null,
   "id": "3f003221",
   "metadata": {},
   "outputs": [],
   "source": [
    "a.reshape(30,1)"
   ]
  },
  {
   "cell_type": "code",
   "execution_count": null,
   "id": "c0036aaf",
   "metadata": {},
   "outputs": [],
   "source": [
    "a.reshape(2,15)"
   ]
  },
  {
   "cell_type": "code",
   "execution_count": null,
   "id": "e3e4376b",
   "metadata": {},
   "outputs": [],
   "source": [
    "a.reshape(15,2)"
   ]
  },
  {
   "cell_type": "code",
   "execution_count": null,
   "id": "99a64ad0",
   "metadata": {},
   "outputs": [],
   "source": [
    "a.reshape(3,10)"
   ]
  },
  {
   "cell_type": "code",
   "execution_count": null,
   "id": "f7dce155",
   "metadata": {},
   "outputs": [],
   "source": [
    "a.reshape(10,3)"
   ]
  },
  {
   "cell_type": "code",
   "execution_count": null,
   "id": "52057071",
   "metadata": {},
   "outputs": [],
   "source": [
    "a=np.random.randint(1,60,20)\n",
    "a"
   ]
  },
  {
   "cell_type": "code",
   "execution_count": null,
   "id": "7da7485f",
   "metadata": {},
   "outputs": [],
   "source": [
    "a.shape"
   ]
  },
  {
   "cell_type": "code",
   "execution_count": null,
   "id": "4dd960ba",
   "metadata": {},
   "outputs": [],
   "source": [
    "a.reshape(2,10)"
   ]
  },
  {
   "cell_type": "code",
   "execution_count": null,
   "id": "944cff3b",
   "metadata": {},
   "outputs": [],
   "source": [
    "a.reshape(10,2)"
   ]
  },
  {
   "cell_type": "code",
   "execution_count": null,
   "id": "f276cb5f",
   "metadata": {},
   "outputs": [],
   "source": [
    "a.reshape(5,4)"
   ]
  },
  {
   "cell_type": "code",
   "execution_count": null,
   "id": "68b32460",
   "metadata": {},
   "outputs": [],
   "source": [
    "a[1]"
   ]
  },
  {
   "cell_type": "code",
   "execution_count": null,
   "id": "81835b94",
   "metadata": {},
   "outputs": [],
   "source": [
    "a.reshape(4,5)"
   ]
  },
  {
   "cell_type": "code",
   "execution_count": null,
   "id": "0ba33e4c",
   "metadata": {},
   "outputs": [],
   "source": [
    "a.reshape(20,1)"
   ]
  },
  {
   "cell_type": "code",
   "execution_count": null,
   "id": "d123d8cd",
   "metadata": {},
   "outputs": [],
   "source": [
    "a.reshape(1,20)"
   ]
  },
  {
   "cell_type": "code",
   "execution_count": null,
   "id": "de3afbfc",
   "metadata": {},
   "outputs": [],
   "source": [
    "# principal of -1=>row,column,total element==>\n",
    "#row,total element=> column(-1)==>reshape\n",
    "#column,total element==>row(-1)==>reshape"
   ]
  },
  {
   "cell_type": "code",
   "execution_count": null,
   "id": "5e5b83bb",
   "metadata": {},
   "outputs": [],
   "source": [
    "a.shape"
   ]
  },
  {
   "cell_type": "code",
   "execution_count": null,
   "id": "fb432f51",
   "metadata": {},
   "outputs": [],
   "source": [
    "a=a.reshape(-1,20)\n",
    "a"
   ]
  },
  {
   "cell_type": "code",
   "execution_count": null,
   "id": "dd7b5ead",
   "metadata": {},
   "outputs": [],
   "source": [
    "a=a.reshape(20,-1)\n",
    "a"
   ]
  },
  {
   "cell_type": "markdown",
   "id": "78087d5c",
   "metadata": {},
   "source": [
    "# seed function"
   ]
  },
  {
   "cell_type": "code",
   "execution_count": null,
   "id": "4278ee4b",
   "metadata": {},
   "outputs": [],
   "source": [
    "np.random.seed(11)\n",
    "a=np.random.randint(1,50,10)\n",
    "a"
   ]
  },
  {
   "cell_type": "markdown",
   "id": "bb67a9d1",
   "metadata": {},
   "source": [
    "# view and copy"
   ]
  },
  {
   "cell_type": "code",
   "execution_count": null,
   "id": "43749c3d",
   "metadata": {},
   "outputs": [],
   "source": [
    "a=np.array([10,20,30,40,50,60,70])\n",
    "b=a[4:7]\n",
    "b[:]=0\n",
    "a"
   ]
  },
  {
   "cell_type": "code",
   "execution_count": null,
   "id": "4a0b5903",
   "metadata": {},
   "outputs": [],
   "source": [
    "p=np.array([10,20,30,40,50,60,70])\n",
    "q=p[4:7].copy()\n",
    "q[:]=0\n",
    "p"
   ]
  },
  {
   "cell_type": "code",
   "execution_count": null,
   "id": "54262a73",
   "metadata": {},
   "outputs": [],
   "source": [
    "a=np.random.randint(2,4)\n",
    "a"
   ]
  },
  {
   "cell_type": "code",
   "execution_count": null,
   "id": "28fc64d9",
   "metadata": {},
   "outputs": [],
   "source": [
    "a=[[1,2,3],[4,5,6],[7,8,9]]\n",
    "b=np.array(c)\n",
    "b"
   ]
  },
  {
   "cell_type": "markdown",
   "id": "e9f138d8",
   "metadata": {},
   "source": [
    "# conditional selection in numpy"
   ]
  },
  {
   "cell_type": "code",
   "execution_count": 6,
   "id": "3053e588",
   "metadata": {},
   "outputs": [],
   "source": [
    "import numpy as np\n"
   ]
  },
  {
   "cell_type": "code",
   "execution_count": 7,
   "id": "fa9ae297",
   "metadata": {},
   "outputs": [
    {
     "data": {
      "text/plain": [
       "array([ 1,  2,  3,  4,  5,  6,  7,  8,  9, 10, 11, 12, 13, 14, 15])"
      ]
     },
     "execution_count": 7,
     "metadata": {},
     "output_type": "execute_result"
    }
   ],
   "source": [
    "a=np.arange(1,16)\n",
    "a"
   ]
  },
  {
   "cell_type": "code",
   "execution_count": 8,
   "id": "b737f452",
   "metadata": {},
   "outputs": [
    {
     "data": {
      "text/plain": [
       "array([False, False, False, False, False, False, False, False, False,\n",
       "       False,  True,  True,  True,  True,  True])"
      ]
     },
     "execution_count": 8,
     "metadata": {},
     "output_type": "execute_result"
    }
   ],
   "source": [
    "a>10"
   ]
  },
  {
   "cell_type": "code",
   "execution_count": 9,
   "id": "dc662f05",
   "metadata": {},
   "outputs": [
    {
     "data": {
      "text/plain": [
       "array([ True,  True,  True,  True,  True,  True,  True,  True,  True,\n",
       "       False, False, False, False, False, False])"
      ]
     },
     "execution_count": 9,
     "metadata": {},
     "output_type": "execute_result"
    }
   ],
   "source": [
    "a<10"
   ]
  },
  {
   "cell_type": "code",
   "execution_count": 10,
   "id": "5e06fce0",
   "metadata": {},
   "outputs": [
    {
     "data": {
      "text/plain": [
       "array([11, 12, 13, 14, 15])"
      ]
     },
     "execution_count": 10,
     "metadata": {},
     "output_type": "execute_result"
    }
   ],
   "source": [
    "b=a>10\n",
    "a[b]\n"
   ]
  },
  {
   "cell_type": "code",
   "execution_count": 11,
   "id": "aa7af60c",
   "metadata": {},
   "outputs": [
    {
     "data": {
      "text/plain": [
       "array([1, 2, 3, 4, 5, 6, 7, 8, 9])"
      ]
     },
     "execution_count": 11,
     "metadata": {},
     "output_type": "execute_result"
    }
   ],
   "source": [
    "c=a<10\n",
    "a[c]"
   ]
  },
  {
   "cell_type": "code",
   "execution_count": 61,
   "id": "f4e18606",
   "metadata": {},
   "outputs": [
    {
     "data": {
      "text/plain": [
       "array([[1., 0., 0., 0.],\n",
       "       [0., 1., 0., 0.],\n",
       "       [0., 0., 1., 0.]])"
      ]
     },
     "execution_count": 61,
     "metadata": {},
     "output_type": "execute_result"
    }
   ],
   "source": [
    "a[a%2==0]\n",
    "a"
   ]
  },
  {
   "cell_type": "markdown",
   "id": "b4a39681",
   "metadata": {},
   "source": [
    "# operations on array"
   ]
  },
  {
   "cell_type": "code",
   "execution_count": 18,
   "id": "80242a90",
   "metadata": {},
   "outputs": [
    {
     "data": {
      "text/plain": [
       "array([1, 2, 3, 4])"
      ]
     },
     "execution_count": 18,
     "metadata": {},
     "output_type": "execute_result"
    }
   ],
   "source": [
    "import numpy as np\n",
    "a=np.arange(1,5)\n",
    "a"
   ]
  },
  {
   "cell_type": "code",
   "execution_count": 19,
   "id": "8e66dee8",
   "metadata": {},
   "outputs": [
    {
     "data": {
      "text/plain": [
       "array([4, 5, 6, 7])"
      ]
     },
     "execution_count": 19,
     "metadata": {},
     "output_type": "execute_result"
    }
   ],
   "source": [
    "a+3"
   ]
  },
  {
   "cell_type": "code",
   "execution_count": 20,
   "id": "2b59646c",
   "metadata": {},
   "outputs": [
    {
     "data": {
      "text/plain": [
       "array([ 1,  8, 27, 64], dtype=int32)"
      ]
     },
     "execution_count": 20,
     "metadata": {},
     "output_type": "execute_result"
    }
   ],
   "source": [
    "a**3"
   ]
  },
  {
   "cell_type": "code",
   "execution_count": 21,
   "id": "07f2d908",
   "metadata": {},
   "outputs": [
    {
     "data": {
      "text/plain": [
       "array([ 1,  4,  9, 16])"
      ]
     },
     "execution_count": 21,
     "metadata": {},
     "output_type": "execute_result"
    }
   ],
   "source": [
    "a**2"
   ]
  },
  {
   "cell_type": "code",
   "execution_count": null,
   "id": "7d8ebda9",
   "metadata": {},
   "outputs": [],
   "source": []
  },
  {
   "cell_type": "code",
   "execution_count": 24,
   "id": "9a26618c",
   "metadata": {},
   "outputs": [
    {
     "data": {
      "text/plain": [
       "array([[1, 2],\n",
       "       [3, 4]])"
      ]
     },
     "execution_count": 24,
     "metadata": {},
     "output_type": "execute_result"
    }
   ],
   "source": [
    "a=np.array([1,2,3,4]).reshape(2,2)\n",
    "a"
   ]
  },
  {
   "cell_type": "code",
   "execution_count": 25,
   "id": "bec47b0c",
   "metadata": {},
   "outputs": [
    {
     "data": {
      "text/plain": [
       "array([[5, 6],\n",
       "       [7, 8]])"
      ]
     },
     "execution_count": 25,
     "metadata": {},
     "output_type": "execute_result"
    }
   ],
   "source": [
    "b=np.array([5,6,7,8]).reshape(2,2)\n",
    "b"
   ]
  },
  {
   "cell_type": "code",
   "execution_count": 26,
   "id": "92b40c02",
   "metadata": {},
   "outputs": [
    {
     "data": {
      "text/plain": [
       "array([[ 6,  8],\n",
       "       [10, 12]])"
      ]
     },
     "execution_count": 26,
     "metadata": {},
     "output_type": "execute_result"
    }
   ],
   "source": [
    "a+b #(1+5=6, 2+6=8, 3+7=10, 4+8=12)"
   ]
  },
  {
   "cell_type": "code",
   "execution_count": 27,
   "id": "7d5a91c2",
   "metadata": {},
   "outputs": [
    {
     "data": {
      "text/plain": [
       "array([[-4, -4],\n",
       "       [-4, -4]])"
      ]
     },
     "execution_count": 27,
     "metadata": {},
     "output_type": "execute_result"
    }
   ],
   "source": [
    "a-b #(1-5=-4, 2-6=-4, 3-7=-4, 4-8=-4)"
   ]
  },
  {
   "cell_type": "code",
   "execution_count": 28,
   "id": "0d116368",
   "metadata": {},
   "outputs": [
    {
     "data": {
      "text/plain": [
       "array([[5.        , 3.        ],\n",
       "       [2.33333333, 2.        ]])"
      ]
     },
     "execution_count": 28,
     "metadata": {},
     "output_type": "execute_result"
    }
   ],
   "source": [
    "b/a #(5/1=5, 6/2=3, 7/3=2.33, 8/4=2)"
   ]
  },
  {
   "cell_type": "code",
   "execution_count": 29,
   "id": "ee1d617f",
   "metadata": {},
   "outputs": [
    {
     "data": {
      "text/plain": [
       "array([[ 5, 12],\n",
       "       [21, 32]])"
      ]
     },
     "execution_count": 29,
     "metadata": {},
     "output_type": "execute_result"
    }
   ],
   "source": [
    "a*b #(1*5=5, 2*6=12, 3*7=14,  4*8=32 )"
   ]
  },
  {
   "cell_type": "code",
   "execution_count": 30,
   "id": "a11cd086",
   "metadata": {},
   "outputs": [
    {
     "data": {
      "text/plain": [
       "array([[19, 22],\n",
       "       [43, 50]])"
      ]
     },
     "execution_count": 30,
     "metadata": {},
     "output_type": "execute_result"
    }
   ],
   "source": [
    "a.dot(b)   #for matrix multiplication"
   ]
  },
  {
   "cell_type": "code",
   "execution_count": 31,
   "id": "a571ee61",
   "metadata": {},
   "outputs": [
    {
     "data": {
      "text/plain": [
       "array([[1, 2],\n",
       "       [3, 4]])"
      ]
     },
     "execution_count": 31,
     "metadata": {},
     "output_type": "execute_result"
    }
   ],
   "source": [
    "a"
   ]
  },
  {
   "cell_type": "code",
   "execution_count": 32,
   "id": "452d4324",
   "metadata": {},
   "outputs": [
    {
     "data": {
      "text/plain": [
       "array([[5, 6],\n",
       "       [7, 8]])"
      ]
     },
     "execution_count": 32,
     "metadata": {},
     "output_type": "execute_result"
    }
   ],
   "source": [
    "b"
   ]
  },
  {
   "cell_type": "markdown",
   "id": "b0c448be",
   "metadata": {},
   "source": [
    "# some more important numpy functions"
   ]
  },
  {
   "cell_type": "code",
   "execution_count": 33,
   "id": "98085a1f",
   "metadata": {},
   "outputs": [
    {
     "data": {
      "text/plain": [
       "array([10, 20, 30, 40, 50])"
      ]
     },
     "execution_count": 33,
     "metadata": {},
     "output_type": "execute_result"
    }
   ],
   "source": [
    "a=np.array([10,20,30,40,50])\n",
    "a"
   ]
  },
  {
   "cell_type": "code",
   "execution_count": 34,
   "id": "64981c7d",
   "metadata": {},
   "outputs": [
    {
     "data": {
      "text/plain": [
       "10"
      ]
     },
     "execution_count": 34,
     "metadata": {},
     "output_type": "execute_result"
    }
   ],
   "source": [
    "np.min(a)"
   ]
  },
  {
   "cell_type": "code",
   "execution_count": 35,
   "id": "4e04df0c",
   "metadata": {},
   "outputs": [
    {
     "data": {
      "text/plain": [
       "0"
      ]
     },
     "execution_count": 35,
     "metadata": {},
     "output_type": "execute_result"
    }
   ],
   "source": [
    "np.argmin(a)"
   ]
  },
  {
   "cell_type": "code",
   "execution_count": 36,
   "id": "a77014e8",
   "metadata": {},
   "outputs": [
    {
     "data": {
      "text/plain": [
       "50"
      ]
     },
     "execution_count": 36,
     "metadata": {},
     "output_type": "execute_result"
    }
   ],
   "source": [
    "np.max(a)"
   ]
  },
  {
   "cell_type": "code",
   "execution_count": 38,
   "id": "a4215d46",
   "metadata": {},
   "outputs": [
    {
     "data": {
      "text/plain": [
       "4"
      ]
     },
     "execution_count": 38,
     "metadata": {},
     "output_type": "execute_result"
    }
   ],
   "source": [
    "np.argmax(a)"
   ]
  },
  {
   "cell_type": "code",
   "execution_count": 39,
   "id": "7dfcf92c",
   "metadata": {},
   "outputs": [
    {
     "data": {
      "text/plain": [
       "array([3.16227766, 4.47213595, 5.47722558, 6.32455532, 7.07106781])"
      ]
     },
     "execution_count": 39,
     "metadata": {},
     "output_type": "execute_result"
    }
   ],
   "source": [
    "np.sqrt(a)"
   ]
  },
  {
   "cell_type": "code",
   "execution_count": 40,
   "id": "721183eb",
   "metadata": {},
   "outputs": [
    {
     "data": {
      "text/plain": [
       "array([-0.54402111,  0.91294525, -0.98803162,  0.74511316, -0.26237485])"
      ]
     },
     "execution_count": 40,
     "metadata": {},
     "output_type": "execute_result"
    }
   ],
   "source": [
    "np.sin(a)"
   ]
  },
  {
   "cell_type": "code",
   "execution_count": 41,
   "id": "84afb50e",
   "metadata": {},
   "outputs": [
    {
     "data": {
      "text/plain": [
       "array([-0.83907153,  0.40808206,  0.15425145, -0.66693806,  0.96496603])"
      ]
     },
     "execution_count": 41,
     "metadata": {},
     "output_type": "execute_result"
    }
   ],
   "source": [
    "np.cos(a)"
   ]
  },
  {
   "cell_type": "code",
   "execution_count": 42,
   "id": "31e94ef6",
   "metadata": {},
   "outputs": [
    {
     "data": {
      "text/plain": [
       "array([10, 20, 30, 40, 50])"
      ]
     },
     "execution_count": 42,
     "metadata": {},
     "output_type": "execute_result"
    }
   ],
   "source": [
    "np.sort(a)"
   ]
  },
  {
   "cell_type": "markdown",
   "id": "0edb2357",
   "metadata": {},
   "source": [
    "# linspace"
   ]
  },
  {
   "cell_type": "code",
   "execution_count": 43,
   "id": "5ff05128",
   "metadata": {},
   "outputs": [],
   "source": [
    "#linspace==>this function returens values between a given range with a same gape"
   ]
  },
  {
   "cell_type": "code",
   "execution_count": 46,
   "id": "938de195",
   "metadata": {},
   "outputs": [
    {
     "data": {
      "text/plain": [
       "array([1.  , 1.25, 1.5 , 1.75, 2.  ])"
      ]
     },
     "execution_count": 46,
     "metadata": {},
     "output_type": "execute_result"
    }
   ],
   "source": [
    "a=np.linspace(1,2,5)\n",
    "a"
   ]
  },
  {
   "cell_type": "code",
   "execution_count": 48,
   "id": "c72bf342",
   "metadata": {},
   "outputs": [
    {
     "data": {
      "text/plain": [
       "array([[10,  5, 16],\n",
       "       [ 1, 18, 17],\n",
       "       [18,  9, 10]])"
      ]
     },
     "execution_count": 48,
     "metadata": {},
     "output_type": "execute_result"
    }
   ],
   "source": [
    "a=np.random.seed(10)\n",
    "a=np.random.randint(1,21,9).reshape(3,3)\n",
    "a\n"
   ]
  },
  {
   "cell_type": "code",
   "execution_count": 50,
   "id": "d2ae24ea",
   "metadata": {},
   "outputs": [
    {
     "data": {
      "text/plain": [
       "104"
      ]
     },
     "execution_count": 50,
     "metadata": {},
     "output_type": "execute_result"
    }
   ],
   "source": [
    "np.sum(a)"
   ]
  },
  {
   "cell_type": "code",
   "execution_count": 51,
   "id": "a7fd29ba",
   "metadata": {},
   "outputs": [
    {
     "data": {
      "text/plain": [
       "array([31, 36, 37])"
      ]
     },
     "execution_count": 51,
     "metadata": {},
     "output_type": "execute_result"
    }
   ],
   "source": [
    "np.sum(a,axis=1)#(16+11+13=40,17+13+16=46,3+16+11=30)"
   ]
  },
  {
   "cell_type": "code",
   "execution_count": 52,
   "id": "17e06e91",
   "metadata": {},
   "outputs": [
    {
     "data": {
      "text/plain": [
       "array([29, 32, 43])"
      ]
     },
     "execution_count": 52,
     "metadata": {},
     "output_type": "execute_result"
    }
   ],
   "source": [
    "np.sum(a,axis=0) #10+1+18"
   ]
  },
  {
   "cell_type": "code",
   "execution_count": 53,
   "id": "7e5ac45f",
   "metadata": {},
   "outputs": [
    {
     "data": {
      "text/plain": [
       "array([ 10,  15,  31,  32,  50,  67,  85,  94, 104])"
      ]
     },
     "execution_count": 53,
     "metadata": {},
     "output_type": "execute_result"
    }
   ],
   "source": [
    "np.cumsum(a)#10=5+16"
   ]
  },
  {
   "cell_type": "markdown",
   "id": "91c473b0",
   "metadata": {},
   "source": [
    "# np.unique(arr,return_index=True,return_counts=True)"
   ]
  },
  {
   "cell_type": "code",
   "execution_count": 54,
   "id": "9236d8a5",
   "metadata": {},
   "outputs": [],
   "source": [
    "#returns 1.original array\n",
    "#2, index of perticular array\n",
    "#3. frequncy of perticular original value"
   ]
  },
  {
   "cell_type": "code",
   "execution_count": 55,
   "id": "f1715591",
   "metadata": {},
   "outputs": [
    {
     "data": {
      "text/plain": [
       "(array([10, 20, 30, 40, 50]),\n",
       " array([0, 1, 2, 4, 5], dtype=int64),\n",
       " array([3, 1, 1, 1, 1], dtype=int64))"
      ]
     },
     "execution_count": 55,
     "metadata": {},
     "output_type": "execute_result"
    }
   ],
   "source": [
    "a=np.array([10,20,30,10,40,50,10])\n",
    "np.unique(a, return_index=True, return_counts=True)"
   ]
  },
  {
   "cell_type": "markdown",
   "id": "6098aba3",
   "metadata": {},
   "source": [
    "# horizontal and vertical stacking"
   ]
  },
  {
   "cell_type": "code",
   "execution_count": 56,
   "id": "b04b2b97",
   "metadata": {},
   "outputs": [],
   "source": [
    "a=np.array([1,2,3,4])\n",
    "b=np.array([5,6,7,8])\n",
    "c=np.array([9,10,11,12])"
   ]
  },
  {
   "cell_type": "code",
   "execution_count": 57,
   "id": "f293de8b",
   "metadata": {},
   "outputs": [
    {
     "data": {
      "text/plain": [
       "array([1, 2, 3, 4])"
      ]
     },
     "execution_count": 57,
     "metadata": {},
     "output_type": "execute_result"
    }
   ],
   "source": [
    "a"
   ]
  },
  {
   "cell_type": "code",
   "execution_count": 58,
   "id": "3f84ec32",
   "metadata": {},
   "outputs": [
    {
     "data": {
      "text/plain": [
       "array([5, 6, 7, 8])"
      ]
     },
     "execution_count": 58,
     "metadata": {},
     "output_type": "execute_result"
    }
   ],
   "source": [
    "b"
   ]
  },
  {
   "cell_type": "code",
   "execution_count": 59,
   "id": "0185fddf",
   "metadata": {},
   "outputs": [
    {
     "data": {
      "text/plain": [
       "array([ 9, 10, 11, 12])"
      ]
     },
     "execution_count": 59,
     "metadata": {},
     "output_type": "execute_result"
    }
   ],
   "source": [
    "c"
   ]
  },
  {
   "cell_type": "code",
   "execution_count": 60,
   "id": "f552954b",
   "metadata": {},
   "outputs": [
    {
     "data": {
      "text/plain": [
       "array([ 1,  2,  3,  4,  5,  6,  7,  8,  9, 10, 11, 12])"
      ]
     },
     "execution_count": 60,
     "metadata": {},
     "output_type": "execute_result"
    }
   ],
   "source": [
    "np.hstack((a,b,c))"
   ]
  },
  {
   "cell_type": "code",
   "execution_count": 63,
   "id": "dac3cfd9",
   "metadata": {},
   "outputs": [
    {
     "data": {
      "text/plain": [
       "array([[ 1,  2,  3,  4],\n",
       "       [ 5,  6,  7,  8],\n",
       "       [ 9, 10, 11, 12]])"
      ]
     },
     "execution_count": 63,
     "metadata": {},
     "output_type": "execute_result"
    }
   ],
   "source": [
    "np.vstack((a,b,c))"
   ]
  },
  {
   "cell_type": "code",
   "execution_count": 13,
   "id": "541afb0c",
   "metadata": {},
   "outputs": [],
   "source": [
    "#Q1==>write statement to import numpy?\n",
    "# Q2==>create an array which contains value 8, 15 times?\n",
    "# q3==> create an array of 20 random integers?\n",
    "# Q4==>create a one dimentional   array and convert that into 3*3 matrix?\n",
    "# Q5==>concatenate 2D array of size 3*3?\n",
    "# but all the values should be between -3 to +3?\n",
    "# Q6==>create an array of elements from 40 to 55?\n",
    "# Q7==>create an 3*4 array which contains digonal elements as 1?\n",
    "#Q8==>how are numpy arrays better than a python's list?\n",
    "#Q9==>"
   ]
  },
  {
   "cell_type": "code",
   "execution_count": 14,
   "id": "f0c1fc79",
   "metadata": {},
   "outputs": [],
   "source": [
    "#Q1==>write statement to import numpy?\n",
    "import numpy as np"
   ]
  },
  {
   "cell_type": "code",
   "execution_count": 18,
   "id": "3b4d7c78",
   "metadata": {},
   "outputs": [
    {
     "data": {
      "text/plain": [
       "array([[8, 8, 8],\n",
       "       [8, 8, 8],\n",
       "       [8, 8, 8],\n",
       "       [8, 8, 8],\n",
       "       [8, 8, 8]])"
      ]
     },
     "execution_count": 18,
     "metadata": {},
     "output_type": "execute_result"
    }
   ],
   "source": [
    "#Q2==>create an array which contains value 8, 15 times?\n",
    "a=np.full((5,3),8)\n",
    "a"
   ]
  },
  {
   "cell_type": "code",
   "execution_count": 24,
   "id": "aa6a09a2",
   "metadata": {},
   "outputs": [
    {
     "data": {
      "text/plain": [
       "array([ 7, 18, 13, 13,  8, 16,  7, 19,  4,  1,  6, 11, 11, 14,  5, 14,  3,\n",
       "        4, 14, 15])"
      ]
     },
     "execution_count": 24,
     "metadata": {},
     "output_type": "execute_result"
    }
   ],
   "source": [
    "# q3==> create an array of 20 random integers?\n",
    "a=np.random.randint(1,20,20)\n",
    "a"
   ]
  },
  {
   "cell_type": "code",
   "execution_count": 32,
   "id": "7f069a81",
   "metadata": {},
   "outputs": [
    {
     "data": {
      "text/plain": [
       "array([[1, 2, 3],\n",
       "       [4, 5, 6],\n",
       "       [7, 8, 9]])"
      ]
     },
     "execution_count": 32,
     "metadata": {},
     "output_type": "execute_result"
    }
   ],
   "source": [
    "# Q4==>create a one dimentional   array and convert that into 3*3 matrix?\n",
    "a=np.array(([1,2,3,4,5,6,7,8,9])).reshape(3,3)\n",
    "a"
   ]
  },
  {
   "cell_type": "code",
   "execution_count": 12,
   "id": "9a65a788",
   "metadata": {},
   "outputs": [
    {
     "data": {
      "text/plain": [
       "array([[ 1,  2,  3,  4],\n",
       "       [ 9, 10, 11, 12],\n",
       "       [ 5,  6,  7,  8]])"
      ]
     },
     "execution_count": 12,
     "metadata": {},
     "output_type": "execute_result"
    }
   ],
   "source": [
    "# Q5==>concatenate 2D array of size 3*3? but all the values should be between -3 to +3?\n",
    "import numpy as np\n",
    "a=np.array([[1,2,3,4],[9,10,11,12]])\n",
    "b=np.array([[5,6,7,8]])\n",
    "c=np.concatenate((a,b))\n",
    "c\n"
   ]
  },
  {
   "cell_type": "code",
   "execution_count": 49,
   "id": "35537064",
   "metadata": {},
   "outputs": [
    {
     "data": {
      "text/plain": [
       "array([40, 41, 42, 43, 44, 45, 46, 47, 48, 49, 50, 51, 52, 53, 54, 55])"
      ]
     },
     "execution_count": 49,
     "metadata": {},
     "output_type": "execute_result"
    }
   ],
   "source": [
    "# Q6==>create an array of elements from 40 to 55?\n",
    "a=np.arange(40,56)\n",
    "a"
   ]
  },
  {
   "cell_type": "code",
   "execution_count": 55,
   "id": "b1eb8c0c",
   "metadata": {},
   "outputs": [
    {
     "data": {
      "text/plain": [
       "array([[1., 0., 0., 0.],\n",
       "       [0., 1., 0., 0.],\n",
       "       [0., 0., 1., 0.]])"
      ]
     },
     "execution_count": 55,
     "metadata": {},
     "output_type": "execute_result"
    }
   ],
   "source": [
    "# Q7==>create an 3*4 array which contains digonal elements as 1?\n",
    "a=np.eye(3,4)\n",
    "a"
   ]
  },
  {
   "cell_type": "code",
   "execution_count": null,
   "id": "08997fcc",
   "metadata": {},
   "outputs": [],
   "source": [
    "#Q8==>how are numpy arrays better than a python's list?\n",
    "#Ans==>\n",
    "# ==> fewer code\n",
    "# ==> sort index\n",
    "# ==> same data type"
   ]
  }
 ],
 "metadata": {
  "kernelspec": {
   "display_name": "Python 3 (ipykernel)",
   "language": "python",
   "name": "python3"
  },
  "language_info": {
   "codemirror_mode": {
    "name": "ipython",
    "version": 3
   },
   "file_extension": ".py",
   "mimetype": "text/x-python",
   "name": "python",
   "nbconvert_exporter": "python",
   "pygments_lexer": "ipython3",
   "version": "3.10.9"
  }
 },
 "nbformat": 4,
 "nbformat_minor": 5
}
