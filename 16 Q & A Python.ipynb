{
 "cells": [
  {
   "cell_type": "markdown",
   "id": "f39fa33a",
   "metadata": {},
   "source": [
    "# Q==1 how to convert a temperature from Celsius to Fahrenheit...1"
   ]
  },
  {
   "cell_type": "code",
   "execution_count": null,
   "id": "833e457d",
   "metadata": {},
   "outputs": [],
   "source": [
    "a=float(input(\"enter number:\"))\n",
    "f=(a * 9/5) + 32\n",
    "f"
   ]
  },
  {
   "cell_type": "markdown",
   "id": "047633b6",
   "metadata": {},
   "source": [
    "# Q==2 how to check divisibility of a number"
   ]
  },
  {
   "cell_type": "code",
   "execution_count": null,
   "id": "33b35ad8",
   "metadata": {},
   "outputs": [],
   "source": [
    "numerator=int(input(\"enter number:\"))\n",
    "denominator=int(input(\"enter number:\"))\n",
    "if numerator%denominator==0:\n",
    "    print(\"divisible\")\n",
    "else:\n",
    "    print(\"not divisible\")\n",
    "\n",
    "    "
   ]
  },
  {
   "cell_type": "markdown",
   "id": "31bb61d4",
   "metadata": {},
   "source": [
    "# Q==3 how to check greatest three numbers"
   ]
  },
  {
   "cell_type": "code",
   "execution_count": null,
   "id": "f8d7c370",
   "metadata": {},
   "outputs": [],
   "source": [
    "a=[]\n",
    "size=int(input(\"enter number:\"))\n",
    "for i in range(size):\n",
    "    val=int(input(\"enter number:\"))\n",
    "    a.append(val)\n",
    "print(a)\n",
    "a.sort(reverse=True)\n",
    "b=a[:3]\n",
    "b\n",
    "\n"
   ]
  },
  {
   "cell_type": "markdown",
   "id": "d5790dd7",
   "metadata": {},
   "source": [
    "# Q==4 how to detect positive and negative number\n"
   ]
  },
  {
   "cell_type": "code",
   "execution_count": null,
   "id": "fc55388d",
   "metadata": {},
   "outputs": [],
   "source": [
    "n=int(input(\"enter number:\"))\n",
    "if n>0:\n",
    "    print(\"positive\")\n",
    "elif (n==0):\n",
    "    print(\"zero\")\n",
    "else:\n",
    "    print(\"negative\")"
   ]
  },
  {
   "cell_type": "markdown",
   "id": "b83954a6",
   "metadata": {},
   "source": [
    "# Q==5 convert a temperature from Fahrenheit to Celsius"
   ]
  },
  {
   "cell_type": "code",
   "execution_count": null,
   "id": "81e19d7e",
   "metadata": {},
   "outputs": [],
   "source": [
    "fahrenheit = float(input(\"Enter the temperature in Fahrenheit: \"))\n",
    "celsius = (fahrenheit - 32) * 5/9\n",
    "celsius\n"
   ]
  },
  {
   "cell_type": "markdown",
   "id": "d4f94dde",
   "metadata": {},
   "source": [
    "# Q==6 create a calendar"
   ]
  },
  {
   "cell_type": "code",
   "execution_count": 6,
   "id": "9fa9d4d3",
   "metadata": {},
   "outputs": [
    {
     "name": "stdout",
     "output_type": "stream",
     "text": [
      "enter year:2023\n",
      "enter month:10\n",
      "    October 2023\n",
      "Mo Tu We Th Fr Sa Su\n",
      "                   1\n",
      " 2  3  4  5  6  7  8\n",
      " 9 10 11 12 13 14 15\n",
      "16 17 18 19 20 21 22\n",
      "23 24 25 26 27 28 29\n",
      "30 31\n",
      "\n"
     ]
    }
   ],
   "source": [
    "import calendar\n",
    "year=int(input(\"enter year:\"))\n",
    "month=int(input(\"enter month:\"))\n",
    "cal=calendar.month(year, month)\n",
    "print(cal)"
   ]
  },
  {
   "cell_type": "markdown",
   "id": "3c07b913",
   "metadata": {},
   "source": [
    "# Q==7 how to check for leap year"
   ]
  },
  {
   "cell_type": "code",
   "execution_count": 10,
   "id": "47548361",
   "metadata": {},
   "outputs": [
    {
     "name": "stdout",
     "output_type": "stream",
     "text": [
      "Enter a year: 12\n",
      "leap\n"
     ]
    }
   ],
   "source": [
    "year = int(input(\"Enter a year: \"))\n",
    "\n",
    "if (year % 4 == 0 and year % 100 != 0) or (year % 400 == 0):\n",
    "    print(\"leap\")\n",
    "else:\n",
    "    print(\"not\")"
   ]
  },
  {
   "cell_type": "markdown",
   "id": "9d11d963",
   "metadata": {},
   "source": [
    "# Q==8 How to get Factorial using for loop"
   ]
  },
  {
   "cell_type": "code",
   "execution_count": 12,
   "id": "9cf7f39c",
   "metadata": {},
   "outputs": [
    {
     "name": "stdout",
     "output_type": "stream",
     "text": [
      "Enter a number: 4\n",
      "24\n"
     ]
    }
   ],
   "source": [
    "num = int(input(\"Enter a number: \"))\n",
    "factorial = 1\n",
    "for i in range(1, num + 1):\n",
    "    factorial=factorial*i\n",
    "print(factorial)\n",
    "\n"
   ]
  },
  {
   "cell_type": "markdown",
   "id": "608ce395",
   "metadata": {},
   "source": [
    "# Q==9 How to create a Fibonacci Sequence1\n"
   ]
  },
  {
   "cell_type": "code",
   "execution_count": 13,
   "id": "cf93579b",
   "metadata": {},
   "outputs": [
    {
     "name": "stdout",
     "output_type": "stream",
     "text": [
      "enter number:5\n",
      "1\n",
      "1\n",
      "2\n",
      "3\n",
      "5\n"
     ]
    }
   ],
   "source": [
    "n=int(input(\"enter number:\"))\n",
    "a=0\n",
    "b=1\n",
    "for i in range(a,n):\n",
    "    print(b)\n",
    "    c=a+b\n",
    "    a=b\n",
    "    b=c"
   ]
  },
  {
   "cell_type": "markdown",
   "id": "0b110b65",
   "metadata": {},
   "source": [
    "# Q==10 product number"
   ]
  },
  {
   "cell_type": "code",
   "execution_count": 14,
   "id": "250a5b8e",
   "metadata": {},
   "outputs": [
    {
     "name": "stdout",
     "output_type": "stream",
     "text": [
      "enter number:23\n",
      "6\n"
     ]
    }
   ],
   "source": [
    "n=int(input(\"enter number:\"))\n",
    "prod=1\n",
    "for i in range(n):\n",
    "    if n>0:\n",
    "        \n",
    "        prod=prod*(n%10)\n",
    "        n=n//10\n",
    "print(prod)\n"
   ]
  },
  {
   "cell_type": "markdown",
   "id": "2c27dacb",
   "metadata": {},
   "source": [
    "# Q==11 prime number"
   ]
  },
  {
   "cell_type": "code",
   "execution_count": 15,
   "id": "882c35e1",
   "metadata": {},
   "outputs": [
    {
     "name": "stdout",
     "output_type": "stream",
     "text": [
      "enter number:3\n",
      "1\n",
      "2\n",
      "yes\n"
     ]
    }
   ],
   "source": [
    "n=int(input(\"enter number:\"))\n",
    "i=1\n",
    "count=0\n",
    "while i<=n:\n",
    "    if n%i==0:\n",
    "        count=count+1\n",
    "        print(count)\n",
    "    i=i+1\n",
    "if count==2:\n",
    "    print(\"yes\")\n",
    "else:\n",
    "    print(\"no\")"
   ]
  },
  {
   "cell_type": "markdown",
   "id": "abc5b710",
   "metadata": {},
   "source": [
    "# Q==12 reverse number"
   ]
  },
  {
   "cell_type": "code",
   "execution_count": 16,
   "id": "36061947",
   "metadata": {},
   "outputs": [
    {
     "name": "stdout",
     "output_type": "stream",
     "text": [
      "enter number:234\n",
      "432\n"
     ]
    }
   ],
   "source": [
    "n=int(input(\"enter number:\"))\n",
    "rev=0\n",
    "while n>0:\n",
    "    rev=(rev*10)+(n%10)\n",
    "    n=n//10\n",
    "print(rev)"
   ]
  },
  {
   "cell_type": "markdown",
   "id": "a2fde808",
   "metadata": {},
   "source": [
    "# Q==13  armstrong number"
   ]
  },
  {
   "cell_type": "code",
   "execution_count": 17,
   "id": "6cc58f93",
   "metadata": {},
   "outputs": [
    {
     "name": "stdout",
     "output_type": "stream",
     "text": [
      "enter number:153\n",
      "yes\n"
     ]
    }
   ],
   "source": [
    "n=int(input(\"enter number:\"))\n",
    "orig=n\n",
    "rev=0\n",
    "while n>0:\n",
    "    rev=rev+(n%10)*(n%10)*(n%10)\n",
    "    n=n//10\n",
    "if orig==rev:\n",
    "    print(\"yes\")\n",
    "else:\n",
    "    print(\"no\")"
   ]
  },
  {
   "cell_type": "code",
   "execution_count": null,
   "id": "d4d78d7d",
   "metadata": {},
   "outputs": [],
   "source": [
    "# explain code 2\n",
    "n = int(input(\"Enter a number:\"))  # Assume the user enters 153\n",
    "a = str(n)  # Convert 153 to the string '153'\n",
    "b = len(a)  # Calculate the number of digits in '153', which is 3\n",
    "sum = 0  # Initialize sum to 0\n",
    "\n",
    "# Iterate over each digit in '153'\n",
    "for i in a:\n",
    "    sum = sum + int(i)**b  # Add each digit raised to the power of 3 to sum\n",
    "\n",
    "# Check if the sum (1^3 + 5^3 + 3^3) is equal to the original number (153)\n",
    "if sum == n:\n",
    "    print(\"Yes, it is an Armstrong number.\")\n",
    "else:\n",
    "    print(\"No, it is not an Armstrong number.\")\n"
   ]
  },
  {
   "cell_type": "code",
   "execution_count": null,
   "id": "bdd96af0",
   "metadata": {},
   "outputs": [],
   "source": [
    "# explain code\n",
    "n = 153\n",
    "orig = n  # orig is now 153\n",
    "rev = 0   # rev is initialized to 0\n",
    "\n",
    "# First iteration\n",
    "rev = rev + (n % 10) ** 3\n",
    "# n % 10 gives the last digit of n, which is 3\n",
    "# (3 ** 3) is the cube of 3, which is 27\n",
    "# rev = 0 + 27, so rev is now 27\n",
    "n = n // 10\n",
    "# n // 10 removes the last digit from n, so n is now 15\n",
    "\n",
    "# Second iteration\n",
    "rev = rev + (n % 10) ** 3\n",
    "# n % 10 gives the last digit of n, which is 5\n",
    "# (5 ** 3) is the cube of 5, which is 125\n",
    "# rev = 27 + 125, so rev is now 152\n",
    "n = n // 10\n",
    "# n // 10 removes the last digit from n, so n is now 1\n",
    "\n",
    "# Third iteration\n",
    "rev = rev + (n % 10) ** 3\n",
    "# n % 10 gives the last digit of n, which is 1\n",
    "# (1 ** 3) is the cube of 1, which is 1\n",
    "# rev = 152 + 1, so rev is now 153\n",
    "n = n // 10\n",
    "# n // 10 removes the last digit from n, so n is now 0\n",
    "\n",
    "# The loop ends because n is now 0\n",
    "\n",
    "# Now, compare the reversed number (rev) with the original number (orig)\n",
    "if orig == rev:\n",
    "    print(\"Yes, it is an Armstrong number.\")\n",
    "else:\n",
    "    print(\"No, it is not an Armstrong number.\")\n"
   ]
  },
  {
   "cell_type": "code",
   "execution_count": null,
   "id": "4c8de7d5",
   "metadata": {},
   "outputs": [],
   "source": [
    "for num in range(1, 201):\n",
    "    num_str = str(num)\n",
    "    num_digits = len(num_str)\n",
    "    digit_sum = 0\n",
    "    \n",
    "    for digit in num_str:\n",
    "        digit_sum += int(digit) ** num_digits\n",
    "    \n",
    "    if digit_sum == num:\n",
    "        print(num)\n"
   ]
  },
  {
   "cell_type": "markdown",
   "id": "c57a46e3",
   "metadata": {},
   "source": [
    "# Q==14  palindrom number"
   ]
  },
  {
   "cell_type": "code",
   "execution_count": 19,
   "id": "927bacea",
   "metadata": {},
   "outputs": [
    {
     "name": "stdout",
     "output_type": "stream",
     "text": [
      "enter number:121\n",
      "yes\n"
     ]
    }
   ],
   "source": [
    "n=int(input(\"enter number:\"))\n",
    "orig=n\n",
    "rev=0\n",
    "while n>0:\n",
    "    rev=(rev*10)+(n%10)\n",
    "    n=n//10\n",
    "if orig==rev:\n",
    "    print(\"yes\")\n",
    "else:\n",
    "    print(\"no\")\n",
    "    \n",
    "    "
   ]
  },
  {
   "cell_type": "code",
   "execution_count": null,
   "id": "f1dd5a82",
   "metadata": {},
   "outputs": [],
   "source": [
    "n = 121\n",
    "orig = n  # orig is now 121\n",
    "rev = 0   # rev is initialized to 0\n",
    "\n",
    "# First Iteration:\n",
    "rev = (0 * 10) + (121 % 10)  # rev becomes 1 (0 * 10 + 1)\n",
    "n = 121 // 10                # n becomes 12\n",
    "\n",
    "# Second Iteration:\n",
    "rev = (1 * 10) + (12 % 10)   # rev becomes 12 (1 * 10 + 2)\n",
    "n = 12 // 10                 # n becomes 1\n",
    "\n",
    "# Third Iteration:\n",
    "rev = (12 * 10) + (1 % 10)   # rev becomes 121 (12 * 10 + 1)\n",
    "n = 1 // 10                  # n becomes 0\n",
    "\n",
    "# The loop ends because n is now 0\n",
    "\n",
    "# After the loop, rev is 121, and orig is also 121\n",
    "\n",
    "# Check if the reversed number is equal to the original number\n",
    "if rev == orig:\n",
    "    print(\"Yes, it is a palindrome.\")\n",
    "else:\n",
    "    print(\"No, it is not a palindrome.\")\n"
   ]
  },
  {
   "cell_type": "markdown",
   "id": "94653c64",
   "metadata": {},
   "source": [
    "# Q==15  string palindrom"
   ]
  },
  {
   "cell_type": "code",
   "execution_count": 1,
   "id": "a70fd89f",
   "metadata": {},
   "outputs": [
    {
     "name": "stdout",
     "output_type": "stream",
     "text": [
      "enter string:moom\n",
      "yes\n"
     ]
    }
   ],
   "source": [
    "def fun(s):\n",
    "    s=s.replace(' ','').lower()\n",
    "    return s==s[::-1]\n",
    "n=input(\"enter string:\")\n",
    "if fun(n):\n",
    "    print(\"yes\")\n",
    "else:\n",
    "    print(\"no\")"
   ]
  },
  {
   "cell_type": "markdown",
   "id": "9ec01d74",
   "metadata": {},
   "source": [
    "# Q==16 How to find the longest word in a multiple string"
   ]
  },
  {
   "cell_type": "code",
   "execution_count": 24,
   "id": "c3b57471",
   "metadata": {},
   "outputs": [
    {
     "name": "stdout",
     "output_type": "stream",
     "text": [
      "Enter the number of strings: 2\n",
      "Enter a string: sam\n",
      "Enter a string: subham\n",
      "subham\n"
     ]
    }
   ],
   "source": [
    "a = int(input(\"Enter the number of strings: \"))\n",
    "b= []\n",
    "\n",
    "for _ in range(a):\n",
    "    x = input(\"Enter a string: \")\n",
    "    b.append(x)\n",
    "\n",
    "y = \"\"\n",
    "z= 0\n",
    "\n",
    "for x in b:\n",
    "    words = x.split()\n",
    "\n",
    "    for word in words:\n",
    "        if len(word) > z:\n",
    "            z = len(word)\n",
    "            y = word\n",
    "print(y)\n"
   ]
  },
  {
   "cell_type": "code",
   "execution_count": null,
   "id": "b3d46c49",
   "metadata": {},
   "outputs": [],
   "source": [
    "Q==17  "
   ]
  }
 ],
 "metadata": {
  "kernelspec": {
   "display_name": "Python 3 (ipykernel)",
   "language": "python",
   "name": "python3"
  },
  "language_info": {
   "codemirror_mode": {
    "name": "ipython",
    "version": 3
   },
   "file_extension": ".py",
   "mimetype": "text/x-python",
   "name": "python",
   "nbconvert_exporter": "python",
   "pygments_lexer": "ipython3",
   "version": "3.10.9"
  }
 },
 "nbformat": 4,
 "nbformat_minor": 5
}
